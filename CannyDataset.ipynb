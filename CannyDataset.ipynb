{
 "cells": [
  {
   "cell_type": "code",
   "execution_count": 6,
   "metadata": {},
   "outputs": [
    {
     "name": "stdout",
     "output_type": "stream",
     "text": [
      "Requirement already satisfied: datasets==2.12.0 in c:\\users\\khaled\\anaconda3\\envs\\lora_canny\\lib\\site-packages (2.12.0)\n",
      "Requirement already satisfied: packaging in c:\\users\\khaled\\anaconda3\\envs\\lora_canny\\lib\\site-packages (from datasets==2.12.0) (23.1)\n",
      "Requirement already satisfied: pandas in c:\\users\\khaled\\anaconda3\\envs\\lora_canny\\lib\\site-packages (from datasets==2.12.0) (2.0.1)\n",
      "Requirement already satisfied: requests>=2.19.0 in c:\\users\\khaled\\anaconda3\\envs\\lora_canny\\lib\\site-packages (from datasets==2.12.0) (2.29.0)\n",
      "Requirement already satisfied: responses<0.19 in c:\\users\\khaled\\anaconda3\\envs\\lora_canny\\lib\\site-packages (from datasets==2.12.0) (0.18.0)\n",
      "Requirement already satisfied: pyyaml>=5.1 in c:\\users\\khaled\\anaconda3\\envs\\lora_canny\\lib\\site-packages (from datasets==2.12.0) (6.0)\n",
      "Requirement already satisfied: huggingface-hub<1.0.0,>=0.11.0 in c:\\users\\khaled\\anaconda3\\envs\\lora_canny\\lib\\site-packages (from datasets==2.12.0) (0.14.1)\n",
      "Requirement already satisfied: aiohttp in c:\\users\\khaled\\anaconda3\\envs\\lora_canny\\lib\\site-packages (from datasets==2.12.0) (3.8.4)\n",
      "Requirement already satisfied: tqdm>=4.62.1 in c:\\users\\khaled\\anaconda3\\envs\\lora_canny\\lib\\site-packages (from datasets==2.12.0) (4.65.0)\n",
      "Requirement already satisfied: dill<0.3.7,>=0.3.0 in c:\\users\\khaled\\anaconda3\\envs\\lora_canny\\lib\\site-packages (from datasets==2.12.0) (0.3.6)\n",
      "Requirement already satisfied: multiprocess in c:\\users\\khaled\\anaconda3\\envs\\lora_canny\\lib\\site-packages (from datasets==2.12.0) (0.70.14)\n",
      "Requirement already satisfied: pyarrow>=8.0.0 in c:\\users\\khaled\\anaconda3\\envs\\lora_canny\\lib\\site-packages (from datasets==2.12.0) (12.0.0)\n",
      "Requirement already satisfied: xxhash in c:\\users\\khaled\\anaconda3\\envs\\lora_canny\\lib\\site-packages (from datasets==2.12.0) (3.2.0)\n",
      "Requirement already satisfied: numpy>=1.17 in c:\\users\\khaled\\anaconda3\\envs\\lora_canny\\lib\\site-packages (from datasets==2.12.0) (1.24.3)\n",
      "Requirement already satisfied: fsspec[http]>=2021.11.1 in c:\\users\\khaled\\anaconda3\\envs\\lora_canny\\lib\\site-packages (from datasets==2.12.0) (2023.4.0)\n",
      "Requirement already satisfied: charset-normalizer<4.0,>=2.0 in c:\\users\\khaled\\anaconda3\\envs\\lora_canny\\lib\\site-packages (from aiohttp->datasets==2.12.0) (2.0.4)\n",
      "Requirement already satisfied: multidict<7.0,>=4.5 in c:\\users\\khaled\\anaconda3\\envs\\lora_canny\\lib\\site-packages (from aiohttp->datasets==2.12.0) (6.0.4)\n",
      "Requirement already satisfied: attrs>=17.3.0 in c:\\users\\khaled\\anaconda3\\envs\\lora_canny\\lib\\site-packages (from aiohttp->datasets==2.12.0) (23.1.0)\n",
      "Requirement already satisfied: frozenlist>=1.1.1 in c:\\users\\khaled\\anaconda3\\envs\\lora_canny\\lib\\site-packages (from aiohttp->datasets==2.12.0) (1.3.3)\n",
      "Requirement already satisfied: yarl<2.0,>=1.0 in c:\\users\\khaled\\anaconda3\\envs\\lora_canny\\lib\\site-packages (from aiohttp->datasets==2.12.0) (1.9.2)\n",
      "Requirement already satisfied: async-timeout<5.0,>=4.0.0a3 in c:\\users\\khaled\\anaconda3\\envs\\lora_canny\\lib\\site-packages (from aiohttp->datasets==2.12.0) (4.0.2)\n",
      "Requirement already satisfied: aiosignal>=1.1.2 in c:\\users\\khaled\\anaconda3\\envs\\lora_canny\\lib\\site-packages (from aiohttp->datasets==2.12.0) (1.3.1)\n",
      "Requirement already satisfied: filelock in c:\\users\\khaled\\anaconda3\\envs\\lora_canny\\lib\\site-packages (from huggingface-hub<1.0.0,>=0.11.0->datasets==2.12.0) (3.9.0)\n",
      "Requirement already satisfied: typing-extensions>=3.7.4.3 in c:\\users\\khaled\\anaconda3\\envs\\lora_canny\\lib\\site-packages (from huggingface-hub<1.0.0,>=0.11.0->datasets==2.12.0) (4.5.0)\n",
      "Requirement already satisfied: idna<4,>=2.5 in c:\\users\\khaled\\anaconda3\\envs\\lora_canny\\lib\\site-packages (from requests>=2.19.0->datasets==2.12.0) (3.4)\n",
      "Requirement already satisfied: urllib3<1.27,>=1.21.1 in c:\\users\\khaled\\anaconda3\\envs\\lora_canny\\lib\\site-packages (from requests>=2.19.0->datasets==2.12.0) (1.26.15)\n",
      "Requirement already satisfied: certifi>=2017.4.17 in c:\\users\\khaled\\anaconda3\\envs\\lora_canny\\lib\\site-packages (from requests>=2.19.0->datasets==2.12.0) (2022.12.7)\n",
      "Requirement already satisfied: colorama in c:\\users\\khaled\\anaconda3\\envs\\lora_canny\\lib\\site-packages (from tqdm>=4.62.1->datasets==2.12.0) (0.4.6)\n",
      "Requirement already satisfied: pytz>=2020.1 in c:\\users\\khaled\\anaconda3\\envs\\lora_canny\\lib\\site-packages (from pandas->datasets==2.12.0) (2023.3)\n",
      "Requirement already satisfied: python-dateutil>=2.8.2 in c:\\users\\khaled\\anaconda3\\envs\\lora_canny\\lib\\site-packages (from pandas->datasets==2.12.0) (2.8.2)\n",
      "Requirement already satisfied: tzdata>=2022.1 in c:\\users\\khaled\\anaconda3\\envs\\lora_canny\\lib\\site-packages (from pandas->datasets==2.12.0) (2023.3)\n",
      "Requirement already satisfied: six>=1.5 in c:\\users\\khaled\\anaconda3\\envs\\lora_canny\\lib\\site-packages (from python-dateutil>=2.8.2->pandas->datasets==2.12.0) (1.16.0)\n"
     ]
    }
   ],
   "source": [
    "!pip install datasets==2.12.0"
   ]
  },
  {
   "cell_type": "code",
   "execution_count": 1,
   "metadata": {},
   "outputs": [
    {
     "name": "stderr",
     "output_type": "stream",
     "text": [
      "c:\\Users\\Khaled\\anaconda3\\envs\\lora_canny\\lib\\site-packages\\tqdm\\auto.py:21: TqdmWarning: IProgress not found. Please update jupyter and ipywidgets. See https://ipywidgets.readthedocs.io/en/stable/user_install.html\n",
      "  from .autonotebook import tqdm as notebook_tqdm\n"
     ]
    },
    {
     "name": "stdout",
     "output_type": "stream",
     "text": [
      "Downloading and preparing dataset diffusiondb/2m_random_1k to C:/Users/Khaled/.cache/huggingface/datasets/poloclub___diffusiondb/2m_random_1k/0.9.1/b3bc1e64570dc7149af62c4bac49ecfbce16b683dd4fee083292fae1afa95f7c...\n"
     ]
    },
    {
     "name": "stderr",
     "output_type": "stream",
     "text": [
      "Downloading data: 100%|██████████| 622M/622M [07:53<00:00, 1.32MB/s]   \n",
      "                                                        \r"
     ]
    },
    {
     "ename": "DatasetGenerationError",
     "evalue": "An error occurred while generating the dataset",
     "output_type": "error",
     "traceback": [
      "\u001b[1;31m---------------------------------------------------------------------------\u001b[0m",
      "\u001b[1;31mArrowInvalid\u001b[0m                              Traceback (most recent call last)",
      "File \u001b[1;32mc:\\Users\\Khaled\\anaconda3\\envs\\lora_canny\\lib\\site-packages\\datasets\\builder.py:1608\u001b[0m, in \u001b[0;36mGeneratorBasedBuilder._prepare_split_single\u001b[1;34m(self, gen_kwargs, fpath, file_format, max_shard_size, split_info, check_duplicate_keys, job_id)\u001b[0m\n\u001b[0;32m   1607\u001b[0m _time \u001b[39m=\u001b[39m time\u001b[39m.\u001b[39mtime()\n\u001b[1;32m-> 1608\u001b[0m \u001b[39mfor\u001b[39;00m key, record \u001b[39min\u001b[39;00m generator:\n\u001b[0;32m   1609\u001b[0m     \u001b[39mif\u001b[39;00m max_shard_size \u001b[39mis\u001b[39;00m \u001b[39mnot\u001b[39;00m \u001b[39mNone\u001b[39;00m \u001b[39mand\u001b[39;00m writer\u001b[39m.\u001b[39m_num_bytes \u001b[39m>\u001b[39m max_shard_size:\n",
      "File \u001b[1;32m~\\.cache\\huggingface\\modules\\datasets_modules\\datasets\\poloclub--diffusiondb\\b3bc1e64570dc7149af62c4bac49ecfbce16b683dd4fee083292fae1afa95f7c\\diffusiondb.py:370\u001b[0m, in \u001b[0;36mDiffusionDB._generate_examples\u001b[1;34m(self, data_dirs, json_paths, metadata_path)\u001b[0m\n\u001b[0;32m    368\u001b[0m \u001b[39m# We have to use pandas here to make the dataset preview work (it\u001b[39;00m\n\u001b[0;32m    369\u001b[0m \u001b[39m# uses streaming mode)\u001b[39;00m\n\u001b[1;32m--> 370\u001b[0m metadata_table \u001b[39m=\u001b[39m pd\u001b[39m.\u001b[39;49mread_parquet(\n\u001b[0;32m    371\u001b[0m     metadata_path,\n\u001b[0;32m    372\u001b[0m     filters\u001b[39m=\u001b[39;49m[(\u001b[39m\"\u001b[39;49m\u001b[39mpart_id\u001b[39;49m\u001b[39m\"\u001b[39;49m, \u001b[39m\"\u001b[39;49m\u001b[39min\u001b[39;49m\u001b[39m\"\u001b[39;49m, part_ids)],\n\u001b[0;32m    373\u001b[0m )\n\u001b[0;32m    375\u001b[0m \u001b[39m# Iterate through all extracted zip folders for images\u001b[39;00m\n",
      "File \u001b[1;32mc:\\Users\\Khaled\\anaconda3\\envs\\lora_canny\\lib\\site-packages\\pandas\\io\\parquet.py:509\u001b[0m, in \u001b[0;36mread_parquet\u001b[1;34m(path, engine, columns, storage_options, use_nullable_dtypes, dtype_backend, **kwargs)\u001b[0m\n\u001b[0;32m    507\u001b[0m check_dtype_backend(dtype_backend)\n\u001b[1;32m--> 509\u001b[0m \u001b[39mreturn\u001b[39;00m impl\u001b[39m.\u001b[39mread(\n\u001b[0;32m    510\u001b[0m     path,\n\u001b[0;32m    511\u001b[0m     columns\u001b[39m=\u001b[39mcolumns,\n\u001b[0;32m    512\u001b[0m     storage_options\u001b[39m=\u001b[39mstorage_options,\n\u001b[0;32m    513\u001b[0m     use_nullable_dtypes\u001b[39m=\u001b[39muse_nullable_dtypes,\n\u001b[0;32m    514\u001b[0m     dtype_backend\u001b[39m=\u001b[39mdtype_backend,\n\u001b[0;32m    515\u001b[0m     \u001b[39m*\u001b[39m\u001b[39m*\u001b[39mkwargs,\n\u001b[0;32m    516\u001b[0m )\n",
      "File \u001b[1;32mc:\\Users\\Khaled\\anaconda3\\envs\\lora_canny\\lib\\site-packages\\pandas\\io\\parquet.py:227\u001b[0m, in \u001b[0;36mPyArrowImpl.read\u001b[1;34m(self, path, columns, use_nullable_dtypes, dtype_backend, storage_options, **kwargs)\u001b[0m\n\u001b[0;32m    226\u001b[0m \u001b[39mtry\u001b[39;00m:\n\u001b[1;32m--> 227\u001b[0m     pa_table \u001b[39m=\u001b[39m \u001b[39mself\u001b[39m\u001b[39m.\u001b[39mapi\u001b[39m.\u001b[39mparquet\u001b[39m.\u001b[39mread_table(\n\u001b[0;32m    228\u001b[0m         path_or_handle, columns\u001b[39m=\u001b[39mcolumns, \u001b[39m*\u001b[39m\u001b[39m*\u001b[39mkwargs\n\u001b[0;32m    229\u001b[0m     )\n\u001b[0;32m    230\u001b[0m     result \u001b[39m=\u001b[39m pa_table\u001b[39m.\u001b[39mto_pandas(\u001b[39m*\u001b[39m\u001b[39m*\u001b[39mto_pandas_kwargs)\n",
      "File \u001b[1;32mc:\\Users\\Khaled\\anaconda3\\envs\\lora_canny\\lib\\site-packages\\pyarrow\\parquet\\core.py:2939\u001b[0m, in \u001b[0;36mread_table\u001b[1;34m(source, columns, use_threads, metadata, schema, use_pandas_metadata, read_dictionary, memory_map, buffer_size, partitioning, filesystem, filters, use_legacy_dataset, ignore_prefixes, pre_buffer, coerce_int96_timestamp_unit, decryption_properties, thrift_string_size_limit, thrift_container_size_limit)\u001b[0m\n\u001b[0;32m   2938\u001b[0m \u001b[39mtry\u001b[39;00m:\n\u001b[1;32m-> 2939\u001b[0m     dataset \u001b[39m=\u001b[39m _ParquetDatasetV2(\n\u001b[0;32m   2940\u001b[0m         source,\n\u001b[0;32m   2941\u001b[0m         schema\u001b[39m=\u001b[39;49mschema,\n\u001b[0;32m   2942\u001b[0m         filesystem\u001b[39m=\u001b[39;49mfilesystem,\n\u001b[0;32m   2943\u001b[0m         partitioning\u001b[39m=\u001b[39;49mpartitioning,\n\u001b[0;32m   2944\u001b[0m         memory_map\u001b[39m=\u001b[39;49mmemory_map,\n\u001b[0;32m   2945\u001b[0m         read_dictionary\u001b[39m=\u001b[39;49mread_dictionary,\n\u001b[0;32m   2946\u001b[0m         buffer_size\u001b[39m=\u001b[39;49mbuffer_size,\n\u001b[0;32m   2947\u001b[0m         filters\u001b[39m=\u001b[39;49mfilters,\n\u001b[0;32m   2948\u001b[0m         ignore_prefixes\u001b[39m=\u001b[39;49mignore_prefixes,\n\u001b[0;32m   2949\u001b[0m         pre_buffer\u001b[39m=\u001b[39;49mpre_buffer,\n\u001b[0;32m   2950\u001b[0m         coerce_int96_timestamp_unit\u001b[39m=\u001b[39;49mcoerce_int96_timestamp_unit,\n\u001b[0;32m   2951\u001b[0m         thrift_string_size_limit\u001b[39m=\u001b[39;49mthrift_string_size_limit,\n\u001b[0;32m   2952\u001b[0m         thrift_container_size_limit\u001b[39m=\u001b[39;49mthrift_container_size_limit,\n\u001b[0;32m   2953\u001b[0m     )\n\u001b[0;32m   2954\u001b[0m \u001b[39mexcept\u001b[39;00m \u001b[39mImportError\u001b[39;00m:\n\u001b[0;32m   2955\u001b[0m     \u001b[39m# fall back on ParquetFile for simple cases when pyarrow.dataset\u001b[39;00m\n\u001b[0;32m   2956\u001b[0m     \u001b[39m# module is not available\u001b[39;00m\n",
      "File \u001b[1;32mc:\\Users\\Khaled\\anaconda3\\envs\\lora_canny\\lib\\site-packages\\pyarrow\\parquet\\core.py:2479\u001b[0m, in \u001b[0;36m_ParquetDatasetV2.__init__\u001b[1;34m(self, path_or_paths, filesystem, filters, partitioning, read_dictionary, buffer_size, memory_map, ignore_prefixes, pre_buffer, coerce_int96_timestamp_unit, schema, decryption_properties, thrift_string_size_limit, thrift_container_size_limit, **kwargs)\u001b[0m\n\u001b[0;32m   2476\u001b[0m fragment \u001b[39m=\u001b[39m parquet_format\u001b[39m.\u001b[39mmake_fragment(single_file, filesystem)\n\u001b[0;32m   2478\u001b[0m \u001b[39mself\u001b[39m\u001b[39m.\u001b[39m_dataset \u001b[39m=\u001b[39m ds\u001b[39m.\u001b[39mFileSystemDataset(\n\u001b[1;32m-> 2479\u001b[0m     [fragment], schema\u001b[39m=\u001b[39mschema \u001b[39mor\u001b[39;00m fragment\u001b[39m.\u001b[39;49mphysical_schema,\n\u001b[0;32m   2480\u001b[0m     \u001b[39mformat\u001b[39m\u001b[39m=\u001b[39mparquet_format,\n\u001b[0;32m   2481\u001b[0m     filesystem\u001b[39m=\u001b[39mfragment\u001b[39m.\u001b[39mfilesystem\n\u001b[0;32m   2482\u001b[0m )\n\u001b[0;32m   2483\u001b[0m \u001b[39mreturn\u001b[39;00m\n",
      "File \u001b[1;32mc:\\Users\\Khaled\\anaconda3\\envs\\lora_canny\\lib\\site-packages\\pyarrow\\_dataset.pyx:1345\u001b[0m, in \u001b[0;36mpyarrow._dataset.Fragment.physical_schema.__get__\u001b[1;34m()\u001b[0m\n",
      "File \u001b[1;32mc:\\Users\\Khaled\\anaconda3\\envs\\lora_canny\\lib\\site-packages\\pyarrow\\error.pxi:144\u001b[0m, in \u001b[0;36mpyarrow.lib.pyarrow_internal_check_status\u001b[1;34m()\u001b[0m\n",
      "File \u001b[1;32mc:\\Users\\Khaled\\anaconda3\\envs\\lora_canny\\lib\\site-packages\\pyarrow\\error.pxi:100\u001b[0m, in \u001b[0;36mpyarrow.lib.check_status\u001b[1;34m()\u001b[0m\n",
      "\u001b[1;31mArrowInvalid\u001b[0m: Could not open Parquet input source '<Buffer>': Parquet magic bytes not found in footer. Either the file is corrupted or this is not a parquet file.",
      "\nThe above exception was the direct cause of the following exception:\n",
      "\u001b[1;31mDatasetGenerationError\u001b[0m                    Traceback (most recent call last)",
      "Cell \u001b[1;32mIn[1], line 34\u001b[0m\n\u001b[0;32m     31\u001b[0m     \u001b[39mreturn\u001b[39;00m _map_fn(\u001b[39m*\u001b[39m\u001b[39m*\u001b[39mkwargs)\n\u001b[0;32m     33\u001b[0m diffusiondb_dataset: Dataset\n\u001b[1;32m---> 34\u001b[0m diffusiondb_dataset \u001b[39m=\u001b[39m load_dataset(\u001b[39m'\u001b[39;49m\u001b[39mpoloclub/diffusiondb\u001b[39;49m\u001b[39m'\u001b[39;49m, \u001b[39m'\u001b[39;49m\u001b[39m2m_random_1k\u001b[39;49m\u001b[39m'\u001b[39;49m, split\u001b[39m=\u001b[39;49m\u001b[39m'\u001b[39;49m\u001b[39mtrain\u001b[39;49m\u001b[39m'\u001b[39;49m)\n\u001b[0;32m     35\u001b[0m diffusiondb_dataset \u001b[39m=\u001b[39m diffusiondb_dataset\u001b[39m.\u001b[39mcast_column(\u001b[39m\"\u001b[39m\u001b[39mimage\u001b[39m\u001b[39m\"\u001b[39m, datasets\u001b[39m.\u001b[39mImage(decode\u001b[39m=\u001b[39m\u001b[39mFalse\u001b[39;00m))\n\u001b[0;32m     36\u001b[0m diffusiondb_dataset \u001b[39m=\u001b[39m diffusiondb_dataset\u001b[39m.\u001b[39mmap(map_fn)\n",
      "File \u001b[1;32mc:\\Users\\Khaled\\anaconda3\\envs\\lora_canny\\lib\\site-packages\\datasets\\load.py:1797\u001b[0m, in \u001b[0;36mload_dataset\u001b[1;34m(path, name, data_dir, data_files, split, cache_dir, features, download_config, download_mode, verification_mode, ignore_verifications, keep_in_memory, save_infos, revision, use_auth_token, task, streaming, num_proc, storage_options, **config_kwargs)\u001b[0m\n\u001b[0;32m   1794\u001b[0m try_from_hf_gcs \u001b[39m=\u001b[39m path \u001b[39mnot\u001b[39;00m \u001b[39min\u001b[39;00m _PACKAGED_DATASETS_MODULES\n\u001b[0;32m   1796\u001b[0m \u001b[39m# Download and prepare data\u001b[39;00m\n\u001b[1;32m-> 1797\u001b[0m builder_instance\u001b[39m.\u001b[39;49mdownload_and_prepare(\n\u001b[0;32m   1798\u001b[0m     download_config\u001b[39m=\u001b[39;49mdownload_config,\n\u001b[0;32m   1799\u001b[0m     download_mode\u001b[39m=\u001b[39;49mdownload_mode,\n\u001b[0;32m   1800\u001b[0m     verification_mode\u001b[39m=\u001b[39;49mverification_mode,\n\u001b[0;32m   1801\u001b[0m     try_from_hf_gcs\u001b[39m=\u001b[39;49mtry_from_hf_gcs,\n\u001b[0;32m   1802\u001b[0m     num_proc\u001b[39m=\u001b[39;49mnum_proc,\n\u001b[0;32m   1803\u001b[0m     storage_options\u001b[39m=\u001b[39;49mstorage_options,\n\u001b[0;32m   1804\u001b[0m )\n\u001b[0;32m   1806\u001b[0m \u001b[39m# Build dataset for splits\u001b[39;00m\n\u001b[0;32m   1807\u001b[0m keep_in_memory \u001b[39m=\u001b[39m (\n\u001b[0;32m   1808\u001b[0m     keep_in_memory \u001b[39mif\u001b[39;00m keep_in_memory \u001b[39mis\u001b[39;00m \u001b[39mnot\u001b[39;00m \u001b[39mNone\u001b[39;00m \u001b[39melse\u001b[39;00m is_small_dataset(builder_instance\u001b[39m.\u001b[39minfo\u001b[39m.\u001b[39mdataset_size)\n\u001b[0;32m   1809\u001b[0m )\n",
      "File \u001b[1;32mc:\\Users\\Khaled\\anaconda3\\envs\\lora_canny\\lib\\site-packages\\datasets\\builder.py:890\u001b[0m, in \u001b[0;36mDatasetBuilder.download_and_prepare\u001b[1;34m(self, output_dir, download_config, download_mode, verification_mode, ignore_verifications, try_from_hf_gcs, dl_manager, base_path, use_auth_token, file_format, max_shard_size, num_proc, storage_options, **download_and_prepare_kwargs)\u001b[0m\n\u001b[0;32m    888\u001b[0m     \u001b[39mif\u001b[39;00m num_proc \u001b[39mis\u001b[39;00m \u001b[39mnot\u001b[39;00m \u001b[39mNone\u001b[39;00m:\n\u001b[0;32m    889\u001b[0m         prepare_split_kwargs[\u001b[39m\"\u001b[39m\u001b[39mnum_proc\u001b[39m\u001b[39m\"\u001b[39m] \u001b[39m=\u001b[39m num_proc\n\u001b[1;32m--> 890\u001b[0m     \u001b[39mself\u001b[39m\u001b[39m.\u001b[39m_download_and_prepare(\n\u001b[0;32m    891\u001b[0m         dl_manager\u001b[39m=\u001b[39mdl_manager,\n\u001b[0;32m    892\u001b[0m         verification_mode\u001b[39m=\u001b[39mverification_mode,\n\u001b[0;32m    893\u001b[0m         \u001b[39m*\u001b[39m\u001b[39m*\u001b[39mprepare_split_kwargs,\n\u001b[0;32m    894\u001b[0m         \u001b[39m*\u001b[39m\u001b[39m*\u001b[39mdownload_and_prepare_kwargs,\n\u001b[0;32m    895\u001b[0m     )\n\u001b[0;32m    896\u001b[0m \u001b[39m# Sync info\u001b[39;00m\n\u001b[0;32m    897\u001b[0m \u001b[39mself\u001b[39m\u001b[39m.\u001b[39minfo\u001b[39m.\u001b[39mdataset_size \u001b[39m=\u001b[39m \u001b[39msum\u001b[39m(split\u001b[39m.\u001b[39mnum_bytes \u001b[39mfor\u001b[39;00m split \u001b[39min\u001b[39;00m \u001b[39mself\u001b[39m\u001b[39m.\u001b[39minfo\u001b[39m.\u001b[39msplits\u001b[39m.\u001b[39mvalues())\n",
      "File \u001b[1;32mc:\\Users\\Khaled\\anaconda3\\envs\\lora_canny\\lib\\site-packages\\datasets\\builder.py:1649\u001b[0m, in \u001b[0;36mGeneratorBasedBuilder._download_and_prepare\u001b[1;34m(self, dl_manager, verification_mode, **prepare_splits_kwargs)\u001b[0m\n\u001b[0;32m   1648\u001b[0m \u001b[39mdef\u001b[39;00m \u001b[39m_download_and_prepare\u001b[39m(\u001b[39mself\u001b[39m, dl_manager, verification_mode, \u001b[39m*\u001b[39m\u001b[39m*\u001b[39mprepare_splits_kwargs):\n\u001b[1;32m-> 1649\u001b[0m     \u001b[39msuper\u001b[39m()\u001b[39m.\u001b[39m_download_and_prepare(\n\u001b[0;32m   1650\u001b[0m         dl_manager,\n\u001b[0;32m   1651\u001b[0m         verification_mode,\n\u001b[0;32m   1652\u001b[0m         check_duplicate_keys\u001b[39m=\u001b[39mverification_mode \u001b[39m==\u001b[39m VerificationMode\u001b[39m.\u001b[39mBASIC_CHECKS\n\u001b[0;32m   1653\u001b[0m         \u001b[39mor\u001b[39;00m verification_mode \u001b[39m==\u001b[39m VerificationMode\u001b[39m.\u001b[39mALL_CHECKS,\n\u001b[0;32m   1654\u001b[0m         \u001b[39m*\u001b[39m\u001b[39m*\u001b[39mprepare_splits_kwargs,\n\u001b[0;32m   1655\u001b[0m     )\n",
      "File \u001b[1;32mc:\\Users\\Khaled\\anaconda3\\envs\\lora_canny\\lib\\site-packages\\datasets\\builder.py:985\u001b[0m, in \u001b[0;36mDatasetBuilder._download_and_prepare\u001b[1;34m(self, dl_manager, verification_mode, **prepare_split_kwargs)\u001b[0m\n\u001b[0;32m    981\u001b[0m split_dict\u001b[39m.\u001b[39madd(split_generator\u001b[39m.\u001b[39msplit_info)\n\u001b[0;32m    983\u001b[0m \u001b[39mtry\u001b[39;00m:\n\u001b[0;32m    984\u001b[0m     \u001b[39m# Prepare split will record examples associated to the split\u001b[39;00m\n\u001b[1;32m--> 985\u001b[0m     \u001b[39mself\u001b[39m\u001b[39m.\u001b[39m_prepare_split(split_generator, \u001b[39m*\u001b[39m\u001b[39m*\u001b[39mprepare_split_kwargs)\n\u001b[0;32m    986\u001b[0m \u001b[39mexcept\u001b[39;00m \u001b[39mOSError\u001b[39;00m \u001b[39mas\u001b[39;00m e:\n\u001b[0;32m    987\u001b[0m     \u001b[39mraise\u001b[39;00m \u001b[39mOSError\u001b[39;00m(\n\u001b[0;32m    988\u001b[0m         \u001b[39m\"\u001b[39m\u001b[39mCannot find data file. \u001b[39m\u001b[39m\"\u001b[39m\n\u001b[0;32m    989\u001b[0m         \u001b[39m+\u001b[39m (\u001b[39mself\u001b[39m\u001b[39m.\u001b[39mmanual_download_instructions \u001b[39mor\u001b[39;00m \u001b[39m\"\u001b[39m\u001b[39m\"\u001b[39m)\n\u001b[0;32m    990\u001b[0m         \u001b[39m+\u001b[39m \u001b[39m\"\u001b[39m\u001b[39m\\n\u001b[39;00m\u001b[39mOriginal error:\u001b[39m\u001b[39m\\n\u001b[39;00m\u001b[39m\"\u001b[39m\n\u001b[0;32m    991\u001b[0m         \u001b[39m+\u001b[39m \u001b[39mstr\u001b[39m(e)\n\u001b[0;32m    992\u001b[0m     ) \u001b[39mfrom\u001b[39;00m \u001b[39mNone\u001b[39;00m\n",
      "File \u001b[1;32mc:\\Users\\Khaled\\anaconda3\\envs\\lora_canny\\lib\\site-packages\\datasets\\builder.py:1487\u001b[0m, in \u001b[0;36mGeneratorBasedBuilder._prepare_split\u001b[1;34m(self, split_generator, check_duplicate_keys, file_format, num_proc, max_shard_size)\u001b[0m\n\u001b[0;32m   1485\u001b[0m job_id \u001b[39m=\u001b[39m \u001b[39m0\u001b[39m\n\u001b[0;32m   1486\u001b[0m \u001b[39mwith\u001b[39;00m pbar:\n\u001b[1;32m-> 1487\u001b[0m     \u001b[39mfor\u001b[39;00m job_id, done, content \u001b[39min\u001b[39;00m \u001b[39mself\u001b[39m\u001b[39m.\u001b[39m_prepare_split_single(\n\u001b[0;32m   1488\u001b[0m         gen_kwargs\u001b[39m=\u001b[39mgen_kwargs, job_id\u001b[39m=\u001b[39mjob_id, \u001b[39m*\u001b[39m\u001b[39m*\u001b[39m_prepare_split_args\n\u001b[0;32m   1489\u001b[0m     ):\n\u001b[0;32m   1490\u001b[0m         \u001b[39mif\u001b[39;00m done:\n\u001b[0;32m   1491\u001b[0m             result \u001b[39m=\u001b[39m content\n",
      "File \u001b[1;32mc:\\Users\\Khaled\\anaconda3\\envs\\lora_canny\\lib\\site-packages\\datasets\\builder.py:1644\u001b[0m, in \u001b[0;36mGeneratorBasedBuilder._prepare_split_single\u001b[1;34m(self, gen_kwargs, fpath, file_format, max_shard_size, split_info, check_duplicate_keys, job_id)\u001b[0m\n\u001b[0;32m   1642\u001b[0m     \u001b[39mif\u001b[39;00m \u001b[39misinstance\u001b[39m(e, SchemaInferenceError) \u001b[39mand\u001b[39;00m e\u001b[39m.\u001b[39m__context__ \u001b[39mis\u001b[39;00m \u001b[39mnot\u001b[39;00m \u001b[39mNone\u001b[39;00m:\n\u001b[0;32m   1643\u001b[0m         e \u001b[39m=\u001b[39m e\u001b[39m.\u001b[39m__context__\n\u001b[1;32m-> 1644\u001b[0m     \u001b[39mraise\u001b[39;00m DatasetGenerationError(\u001b[39m\"\u001b[39m\u001b[39mAn error occurred while generating the dataset\u001b[39m\u001b[39m\"\u001b[39m) \u001b[39mfrom\u001b[39;00m \u001b[39me\u001b[39;00m\n\u001b[0;32m   1646\u001b[0m \u001b[39myield\u001b[39;00m job_id, \u001b[39mTrue\u001b[39;00m, (total_num_examples, total_num_bytes, writer\u001b[39m.\u001b[39m_features, num_shards, shard_lengths)\n",
      "\u001b[1;31mDatasetGenerationError\u001b[0m: An error occurred while generating the dataset"
     ]
    }
   ],
   "source": [
    "import os\n",
    "import pathlib\n",
    "import cv2\n",
    "import random\n",
    "import datasets\n",
    "\n",
    "from PIL import Image, ImageFilter\n",
    "from datasets.arrow_dataset import Dataset\n",
    "from datasets.dataset_dict import DatasetDict\n",
    "from datasets.load import load_dataset\n",
    "\n",
    "os.chdir(pathlib.Path.cwd())\n",
    "\n",
    "os.makedirs('wtcherr', exist_ok=True)\n",
    "os.makedirs(os.path.join('data', 'diffusiondb_2m_random_5k_canny'), exist_ok=True)\n",
    "\n",
    "random.seed(42)\n",
    "\n",
    "def map_fn(kwargs):\n",
    "    def _map_fn(image, prompt, **kwargs):\n",
    "        image = image[\"path\"]\n",
    "        basename = os.path.basename(os.path.dirname(image)) + '_' + os.path.basename(image)\n",
    "        savepath = os.path.join('data', 'diffusiondb_2m_random_5k_canny', basename)\n",
    "        low_threshold = random.randint(1, 10)\n",
    "        high_threshold = random.randint(130, 150)\n",
    "        if not os.path.exists(savepath):\n",
    "            cv2.imwrite(savepath, cv2.Canny(cv2.imread(image), low_threshold, high_threshold))\n",
    "        guide = savepath\n",
    "        text = prompt\n",
    "        return dict(image=image, guide=guide, text=text)\n",
    "    return _map_fn(**kwargs)\n",
    "\n",
    "diffusiondb_dataset: Dataset\n",
    "diffusiondb_dataset = load_dataset('poloclub/diffusiondb', '2m_random_1k', split='train')\n",
    "diffusiondb_dataset = diffusiondb_dataset.cast_column(\"image\", datasets.Image(decode=False))\n",
    "diffusiondb_dataset = diffusiondb_dataset.map(map_fn)\n",
    "columns_to_remove = [f for f in diffusiondb_dataset.features if f not in ['image', 'guide', 'text']]\n",
    "diffusiondb_dataset = diffusiondb_dataset.remove_columns(columns_to_remove)\n",
    "diffusiondb_dataset = diffusiondb_dataset.cast_column(\"image\", datasets.Image(decode=True))\n",
    "diffusiondb_dataset = diffusiondb_dataset.cast_column(\"guide\", datasets.Image(decode=True))\n",
    "diffusiondb_dataset = DatasetDict(train=diffusiondb_dataset)\n",
    "diffusiondb_dataset.save_to_disk(\"wtcherr/diffusiondb_2m_random_5k_canny\")\n"
   ]
  }
 ],
 "metadata": {
  "kernelspec": {
   "display_name": "lora_canny",
   "language": "python",
   "name": "python3"
  },
  "language_info": {
   "codemirror_mode": {
    "name": "ipython",
    "version": 3
   },
   "file_extension": ".py",
   "mimetype": "text/x-python",
   "name": "python",
   "nbconvert_exporter": "python",
   "pygments_lexer": "ipython3",
   "version": "3.10.11"
  },
  "orig_nbformat": 4
 },
 "nbformat": 4,
 "nbformat_minor": 2
}
